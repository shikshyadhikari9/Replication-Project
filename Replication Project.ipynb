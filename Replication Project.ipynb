{
 "cells": [
  {
   "cell_type": "markdown",
   "id": "00e6e246",
   "metadata": {},
   "source": [
    "## Replication Project\n",
    "\n",
    "In my statistics course, we replicated a project for two purposes: a. to put our STATA and statistical knowledge to use and b. to understand the value of a clean and transparent workflow to understand how researchers arrive at their conclusion. \n",
    "\n",
    "In this project, since I have been learning and practicing Python, I will use Python to replicate the results. \n",
    "\n"
   ]
  },
  {
   "cell_type": "markdown",
   "id": "4c089046",
   "metadata": {},
   "source": [
    "### Importing the Libraries"
   ]
  },
  {
   "cell_type": "code",
   "execution_count": 1,
   "id": "b39fa691",
   "metadata": {},
   "outputs": [],
   "source": [
    "import pandas as pd\n",
    "import numpy as np\n",
    "import matplotlib.pyplot as plt\n",
    "# scipi is a library for statistical tests and visualizations \n",
    "from scipy import stats\n",
    "# random enables us to generate random numbers\n",
    "import random\n",
    "import matplotlib.dates as mdates\n",
    "import scipy\n",
    "from IPython.display import display, Math, Latex, HTML\n",
    "from jinja2 import Template"
   ]
  },
  {
   "cell_type": "markdown",
   "id": "7ed5d36c",
   "metadata": {},
   "source": [
    "### Retrieving Data\n",
    "\n",
    "Fuhrmann, Matthew, Todd S. Sechser. 2014. \"Signaling Alliance Commitments: Hand-Tying and Sunk Costs in Extended Nuclear Deterrence. *American Journal of Political Science* 54(4): 919-935\n",
    "\n",
    "I found this data from the American Journal of Political Science website database. \n",
    "https://dataverse.harvard.edu/dataset.xhtml?persistentId=doi:10.7910/DVN/27466\n"
   ]
  },
  {
   "cell_type": "code",
   "execution_count": 2,
   "id": "7e2b69a9",
   "metadata": {},
   "outputs": [],
   "source": [
    "rep_data = pd.io.stata.read_stata('Fuhrmann-Sechser-Appendices_2.dta')\n",
    "rep_data.to_csv('Fuhrmann-Sechser-Appendices_2') "
   ]
  },
  {
   "cell_type": "code",
   "execution_count": 3,
   "id": "aa20bdcd",
   "metadata": {},
   "outputs": [
    {
     "data": {
      "text/html": [
       "<div>\n",
       "<style scoped>\n",
       "    .dataframe tbody tr th:only-of-type {\n",
       "        vertical-align: middle;\n",
       "    }\n",
       "\n",
       "    .dataframe tbody tr th {\n",
       "        vertical-align: top;\n",
       "    }\n",
       "\n",
       "    .dataframe thead th {\n",
       "        text-align: right;\n",
       "    }\n",
       "</style>\n",
       "<table border=\"1\" class=\"dataframe\">\n",
       "  <thead>\n",
       "    <tr style=\"text-align: right;\">\n",
       "      <th></th>\n",
       "      <th>state_a</th>\n",
       "      <th>state_b</th>\n",
       "      <th>year</th>\n",
       "      <th>military_conflict</th>\n",
       "      <th>defense_pact_nuclear_cow</th>\n",
       "      <th>defense_pact_nuclear_atop</th>\n",
       "      <th>nuclear_deployment</th>\n",
       "      <th>defense_pact_nonnuclear_cow</th>\n",
       "      <th>defense_pact_nonnuclear_atop</th>\n",
       "      <th>us_troops</th>\n",
       "      <th>...</th>\n",
       "      <th>shared_rival_nuclear</th>\n",
       "      <th>time_deploy</th>\n",
       "      <th>time_deploy2</th>\n",
       "      <th>time_deploy3</th>\n",
       "      <th>trade</th>\n",
       "      <th>defense_pact_nuclear_uncommon</th>\n",
       "      <th>military_conflict_force</th>\n",
       "      <th>time_force</th>\n",
       "      <th>time_force2</th>\n",
       "      <th>time_force3</th>\n",
       "    </tr>\n",
       "  </thead>\n",
       "  <tbody>\n",
       "    <tr>\n",
       "      <th>367189</th>\n",
       "      <td>352</td>\n",
       "      <td>90</td>\n",
       "      <td>1982</td>\n",
       "      <td>0.0</td>\n",
       "      <td>1</td>\n",
       "      <td>1</td>\n",
       "      <td>0</td>\n",
       "      <td>1</td>\n",
       "      <td>1</td>\n",
       "      <td>0.024000</td>\n",
       "      <td>...</td>\n",
       "      <td>0</td>\n",
       "      <td>22</td>\n",
       "      <td>484</td>\n",
       "      <td>10648.0</td>\n",
       "      <td>0.000000</td>\n",
       "      <td>1</td>\n",
       "      <td>0.0</td>\n",
       "      <td>22</td>\n",
       "      <td>484.0</td>\n",
       "      <td>10648.0</td>\n",
       "    </tr>\n",
       "    <tr>\n",
       "      <th>51710</th>\n",
       "      <td>52</td>\n",
       "      <td>812</td>\n",
       "      <td>1972</td>\n",
       "      <td>0.0</td>\n",
       "      <td>0</td>\n",
       "      <td>0</td>\n",
       "      <td>0</td>\n",
       "      <td>0</td>\n",
       "      <td>0</td>\n",
       "      <td>0.000000</td>\n",
       "      <td>...</td>\n",
       "      <td>1</td>\n",
       "      <td>10</td>\n",
       "      <td>100</td>\n",
       "      <td>1000.0</td>\n",
       "      <td>0.000000</td>\n",
       "      <td>0</td>\n",
       "      <td>0.0</td>\n",
       "      <td>10</td>\n",
       "      <td>100.0</td>\n",
       "      <td>1000.0</td>\n",
       "    </tr>\n",
       "    <tr>\n",
       "      <th>392420</th>\n",
       "      <td>365</td>\n",
       "      <td>439</td>\n",
       "      <td>1990</td>\n",
       "      <td>0.0</td>\n",
       "      <td>0</td>\n",
       "      <td>0</td>\n",
       "      <td>0</td>\n",
       "      <td>1</td>\n",
       "      <td>1</td>\n",
       "      <td>0.006000</td>\n",
       "      <td>...</td>\n",
       "      <td>0</td>\n",
       "      <td>30</td>\n",
       "      <td>900</td>\n",
       "      <td>27000.0</td>\n",
       "      <td>0.700000</td>\n",
       "      <td>0</td>\n",
       "      <td>0.0</td>\n",
       "      <td>30</td>\n",
       "      <td>900.0</td>\n",
       "      <td>27000.0</td>\n",
       "    </tr>\n",
       "    <tr>\n",
       "      <th>488131</th>\n",
       "      <td>434</td>\n",
       "      <td>701</td>\n",
       "      <td>1995</td>\n",
       "      <td>0.0</td>\n",
       "      <td>0</td>\n",
       "      <td>1</td>\n",
       "      <td>0</td>\n",
       "      <td>0</td>\n",
       "      <td>0</td>\n",
       "      <td>0.001000</td>\n",
       "      <td>...</td>\n",
       "      <td>0</td>\n",
       "      <td>4</td>\n",
       "      <td>16</td>\n",
       "      <td>64.0</td>\n",
       "      <td>0.000000</td>\n",
       "      <td>0</td>\n",
       "      <td>0.0</td>\n",
       "      <td>4</td>\n",
       "      <td>16.0</td>\n",
       "      <td>64.0</td>\n",
       "    </tr>\n",
       "    <tr>\n",
       "      <th>379152</th>\n",
       "      <td>355</td>\n",
       "      <td>775</td>\n",
       "      <td>1979</td>\n",
       "      <td>0.0</td>\n",
       "      <td>0</td>\n",
       "      <td>0</td>\n",
       "      <td>0</td>\n",
       "      <td>0</td>\n",
       "      <td>0</td>\n",
       "      <td>0.011000</td>\n",
       "      <td>...</td>\n",
       "      <td>0</td>\n",
       "      <td>29</td>\n",
       "      <td>841</td>\n",
       "      <td>24389.0</td>\n",
       "      <td>0.000000</td>\n",
       "      <td>0</td>\n",
       "      <td>0.0</td>\n",
       "      <td>29</td>\n",
       "      <td>841.0</td>\n",
       "      <td>24389.0</td>\n",
       "    </tr>\n",
       "    <tr>\n",
       "      <th>367739</th>\n",
       "      <td>352</td>\n",
       "      <td>150</td>\n",
       "      <td>1979</td>\n",
       "      <td>0.0</td>\n",
       "      <td>1</td>\n",
       "      <td>1</td>\n",
       "      <td>0</td>\n",
       "      <td>1</td>\n",
       "      <td>1</td>\n",
       "      <td>0.013000</td>\n",
       "      <td>...</td>\n",
       "      <td>0</td>\n",
       "      <td>19</td>\n",
       "      <td>361</td>\n",
       "      <td>6859.0</td>\n",
       "      <td>0.000000</td>\n",
       "      <td>1</td>\n",
       "      <td>0.0</td>\n",
       "      <td>19</td>\n",
       "      <td>361.0</td>\n",
       "      <td>6859.0</td>\n",
       "    </tr>\n",
       "    <tr>\n",
       "      <th>443479</th>\n",
       "      <td>395</td>\n",
       "      <td>540</td>\n",
       "      <td>1994</td>\n",
       "      <td>0.0</td>\n",
       "      <td>0</td>\n",
       "      <td>0</td>\n",
       "      <td>0</td>\n",
       "      <td>1</td>\n",
       "      <td>0</td>\n",
       "      <td>0.000000</td>\n",
       "      <td>...</td>\n",
       "      <td>0</td>\n",
       "      <td>19</td>\n",
       "      <td>361</td>\n",
       "      <td>6859.0</td>\n",
       "      <td>0.000000</td>\n",
       "      <td>0</td>\n",
       "      <td>0.0</td>\n",
       "      <td>19</td>\n",
       "      <td>361.0</td>\n",
       "      <td>6859.0</td>\n",
       "    </tr>\n",
       "    <tr>\n",
       "      <th>264705</th>\n",
       "      <td>225</td>\n",
       "      <td>560</td>\n",
       "      <td>1972</td>\n",
       "      <td>0.0</td>\n",
       "      <td>0</td>\n",
       "      <td>1</td>\n",
       "      <td>0</td>\n",
       "      <td>0</td>\n",
       "      <td>0</td>\n",
       "      <td>0.017000</td>\n",
       "      <td>...</td>\n",
       "      <td>0</td>\n",
       "      <td>22</td>\n",
       "      <td>484</td>\n",
       "      <td>10648.0</td>\n",
       "      <td>14.000000</td>\n",
       "      <td>0</td>\n",
       "      <td>0.0</td>\n",
       "      <td>22</td>\n",
       "      <td>484.0</td>\n",
       "      <td>10648.0</td>\n",
       "    </tr>\n",
       "    <tr>\n",
       "      <th>974400</th>\n",
       "      <td>812</td>\n",
       "      <td>694</td>\n",
       "      <td>1982</td>\n",
       "      <td>0.0</td>\n",
       "      <td>0</td>\n",
       "      <td>0</td>\n",
       "      <td>0</td>\n",
       "      <td>1</td>\n",
       "      <td>1</td>\n",
       "      <td>0.000000</td>\n",
       "      <td>...</td>\n",
       "      <td>0</td>\n",
       "      <td>11</td>\n",
       "      <td>121</td>\n",
       "      <td>1331.0</td>\n",
       "      <td>0.000000</td>\n",
       "      <td>0</td>\n",
       "      <td>0.0</td>\n",
       "      <td>11</td>\n",
       "      <td>121.0</td>\n",
       "      <td>1331.0</td>\n",
       "    </tr>\n",
       "    <tr>\n",
       "      <th>713829</th>\n",
       "      <td>600</td>\n",
       "      <td>260</td>\n",
       "      <td>1957</td>\n",
       "      <td>0.0</td>\n",
       "      <td>1</td>\n",
       "      <td>1</td>\n",
       "      <td>1</td>\n",
       "      <td>1</td>\n",
       "      <td>1</td>\n",
       "      <td>244.406998</td>\n",
       "      <td>...</td>\n",
       "      <td>0</td>\n",
       "      <td>0</td>\n",
       "      <td>0</td>\n",
       "      <td>0.0</td>\n",
       "      <td>18.200001</td>\n",
       "      <td>1</td>\n",
       "      <td>0.0</td>\n",
       "      <td>1</td>\n",
       "      <td>1.0</td>\n",
       "      <td>1.0</td>\n",
       "    </tr>\n",
       "  </tbody>\n",
       "</table>\n",
       "<p>10 rows × 49 columns</p>\n",
       "</div>"
      ],
      "text/plain": [
       "        state_a  state_b  year  military_conflict  defense_pact_nuclear_cow  \\\n",
       "367189      352       90  1982                0.0                         1   \n",
       "51710        52      812  1972                0.0                         0   \n",
       "392420      365      439  1990                0.0                         0   \n",
       "488131      434      701  1995                0.0                         0   \n",
       "379152      355      775  1979                0.0                         0   \n",
       "367739      352      150  1979                0.0                         1   \n",
       "443479      395      540  1994                0.0                         0   \n",
       "264705      225      560  1972                0.0                         0   \n",
       "974400      812      694  1982                0.0                         0   \n",
       "713829      600      260  1957                0.0                         1   \n",
       "\n",
       "        defense_pact_nuclear_atop  nuclear_deployment  \\\n",
       "367189                          1                   0   \n",
       "51710                           0                   0   \n",
       "392420                          0                   0   \n",
       "488131                          1                   0   \n",
       "379152                          0                   0   \n",
       "367739                          1                   0   \n",
       "443479                          0                   0   \n",
       "264705                          1                   0   \n",
       "974400                          0                   0   \n",
       "713829                          1                   1   \n",
       "\n",
       "        defense_pact_nonnuclear_cow  defense_pact_nonnuclear_atop   us_troops  \\\n",
       "367189                            1                             1    0.024000   \n",
       "51710                             0                             0    0.000000   \n",
       "392420                            1                             1    0.006000   \n",
       "488131                            0                             0    0.001000   \n",
       "379152                            0                             0    0.011000   \n",
       "367739                            1                             1    0.013000   \n",
       "443479                            1                             0    0.000000   \n",
       "264705                            0                             0    0.017000   \n",
       "974400                            1                             1    0.000000   \n",
       "713829                            1                             1  244.406998   \n",
       "\n",
       "        ...  shared_rival_nuclear  time_deploy  time_deploy2  time_deploy3  \\\n",
       "367189  ...                     0           22           484       10648.0   \n",
       "51710   ...                     1           10           100        1000.0   \n",
       "392420  ...                     0           30           900       27000.0   \n",
       "488131  ...                     0            4            16          64.0   \n",
       "379152  ...                     0           29           841       24389.0   \n",
       "367739  ...                     0           19           361        6859.0   \n",
       "443479  ...                     0           19           361        6859.0   \n",
       "264705  ...                     0           22           484       10648.0   \n",
       "974400  ...                     0           11           121        1331.0   \n",
       "713829  ...                     0            0             0           0.0   \n",
       "\n",
       "            trade  defense_pact_nuclear_uncommon  military_conflict_force  \\\n",
       "367189   0.000000                              1                      0.0   \n",
       "51710    0.000000                              0                      0.0   \n",
       "392420   0.700000                              0                      0.0   \n",
       "488131   0.000000                              0                      0.0   \n",
       "379152   0.000000                              0                      0.0   \n",
       "367739   0.000000                              1                      0.0   \n",
       "443479   0.000000                              0                      0.0   \n",
       "264705  14.000000                              0                      0.0   \n",
       "974400   0.000000                              0                      0.0   \n",
       "713829  18.200001                              1                      0.0   \n",
       "\n",
       "        time_force  time_force2  time_force3  \n",
       "367189          22        484.0      10648.0  \n",
       "51710           10        100.0       1000.0  \n",
       "392420          30        900.0      27000.0  \n",
       "488131           4         16.0         64.0  \n",
       "379152          29        841.0      24389.0  \n",
       "367739          19        361.0       6859.0  \n",
       "443479          19        361.0       6859.0  \n",
       "264705          22        484.0      10648.0  \n",
       "974400          11        121.0       1331.0  \n",
       "713829           1          1.0          1.0  \n",
       "\n",
       "[10 rows x 49 columns]"
      ]
     },
     "execution_count": 3,
     "metadata": {},
     "output_type": "execute_result"
    }
   ],
   "source": [
    "rep_data.sample(10)\n"
   ]
  },
  {
   "cell_type": "markdown",
   "id": "4f64a283",
   "metadata": {},
   "source": [
    "### Primary Research Question\n",
    "\n",
    "This article evaluates the effectiveness of different ways of signaling allaince commitments in detering conflict. In other words, how do leaders who are willing to defend their allies with military force, convince others of this without actually having to fight? \n",
    "\n",
    "Thus, the research questions are as follows: Can nuclear states achieve successful extended deterrence by announcing defensive allainces with protege states? Or must they deploy nuclear weapons on an ally’s territory before their commitment is seen as believable? \n",
    "\n",
    "Dependent Variable: The occurence of military conflict (Militarized Dispute Initiation) \n",
    "Independent Variable(1): Defense pact with allies Independent Variable (2): Nuclear deployment\n",
    "\n",
    "### Proposed Answer\n",
    "The theoretically motivated answers to the research question are as follows. The research question aims to seek explore the deterrence capability of a publicly made defense pact by nuclear powers.\n",
    "\n",
    "a. Formal defense pacts with nuclear states have deterrence benefits. Having a defense pact with nuclear-armed ally is associated with a lower likelihood of being targeted in a militarized conflict.\n",
    "\n",
    "b. Foreign deployed nuclear weapons are not that effective in deterring conflict. Deploying nuclear weapons on an ally’s territory does not reduce the likelihood that the ally will be targeted in a militarized dispute, once the effect of alliance is accounted for."
   ]
  },
  {
   "cell_type": "markdown",
   "id": "bfe665e1",
   "metadata": {},
   "source": [
    "### Primary Hypotheses\n",
    "\n",
    "The article tests two major hypothesis:\n",
    "\n",
    "*Hypothesis 1*: Having a public defence pact with a nuclear state reduces the likelihood of being targeted in a militarized interstate dispute. \n",
    "\n",
    "*Hypothesis 2*: Hosting another state’s nuclear weapons on one’s territory reduces the likelihood of being targeted in a militarized interstate dispute.\n",
    "\n",
    "Both hypotheses have significant implications for exploring the deterrance capacity of nuclear weapons and they also contribute to debates regarding whether a nuclear-armed world is better for minimizing conflicts or should the world get rid of all the nuclear weapons altogether. Moreover, it also contributes to the debate regarding whether verbal alliance commitments are considered credible signals in an international system, which if one takes the realist assumption, is anarchic, over costly signals such as extraterritorial nuclear deployments."
   ]
  },
  {
   "cell_type": "markdown",
   "id": "3a8c63c2",
   "metadata": {},
   "source": [
    "### Analysis that I am to produce\n",
    "\n",
    "The analysis uses probit estimates. For my analysis, I will use logit regression for two reasons. a. To see how the results differ from the probit models and b. Logit regression is considered to be more popular and robust than probit models. \n",
    "\n",
    "### Unit of Analysis and Statistical Sample\n",
    "\n",
    "Unit of Analysis: The unit of analysis is the directed dyad-year. The dyad year allows to distinguish between initiators and targets in militarized dispute. For example, a dispu te initiated by Japan against North Korea is considered distinct from a dispute initiated by North Korea against Japan. The sample contains information about states in the international system from 1950 to 2000. The authors begin their analysis in 1950 because this is the first year for which they have data on all the independent variables."
   ]
  },
  {
   "cell_type": "markdown",
   "id": "47af82a9",
   "metadata": {},
   "source": [
    "### Overview of Variables in the Data"
   ]
  },
  {
   "cell_type": "code",
   "execution_count": 4,
   "id": "8fb8aff4",
   "metadata": {},
   "outputs": [
    {
     "data": {
      "text/html": [
       "\n",
       "<table>\n",
       "   <tr>\n",
       "        <th> Variable Name in Article </th>\n",
       "        <th> Variable Name in Data Set </th>\n",
       "        <th> Ready to Use </th>\n",
       "        <th> Notes </th>\n",
       "   </tr>\n",
       "   <tr>\n",
       "        <td> Defense Pact with Nuclear Power </td>\n",
       "        <td> defense_pact_nuclear_cow </td>\n",
       "        <td> Yes </td>\n",
       "        <td> defense pact nuclear atop is used in Model 2 </td>\n",
       "   </tr>\n",
       "   <tr>\n",
       "        <td> Nuclear Deployment </td>\n",
       "        <td> nuclear_deployment </td>\n",
       "        <td> Yes </td>\n",
       "        <td>  </td>\n",
       "   </tr>\n",
       "   <tr>\n",
       "        <td> Defense pact with nuclear power*nuclear deployment </td>\n",
       "        <td> defense_pact_deployment </td>\n",
       "        <td> Yes </td>\n",
       "        <td>  </td>\n",
       "   </tr>\n",
       "   <tr>\n",
       "        <td> Defense pact with nonnuclear power </td>\n",
       "        <td> defense_pact_nuclear_cow </td>\n",
       "        <td> Yes </td>\n",
       "        <td> defense pact nuclear atop is used in Model 2</td>\n",
       "   </tr>\n",
       "    <tr>\n",
       "        <td> U.S Troops </td>\n",
       "        <td> us_troops </td>\n",
       "        <td> Yes </td>\n",
       "        <td>  </td>\n",
       "   </tr>\n",
       "     <tr>\n",
       "        <td> Nuclear challenger </td>\n",
       "        <td> challenger_nuclear_weapons </td>\n",
       "        <td> Yes </td>\n",
       "        <td>  </td>\n",
       "   </tr>\n",
       "    <tr>\n",
       "        <td> Nuclear target </td>\n",
       "        <td> target_nuclear_weapons </td>\n",
       "        <td> Yes </td>\n",
       "        <td>  </td>\n",
       "   </tr>\n",
       "    <tr>\n",
       "        <td> Contiguity </td>\n",
       "        <td> contiguity </td>\n",
       "        <td> Yes </td>\n",
       "        <td>  </td>\n",
       "   </tr>\n",
       "    <tr>\n",
       "        <td> Alliance with challenger </td>\n",
       "        <td> alliance_with_challenger_cow </td>\n",
       "        <td> Yes </td>\n",
       "        <td> alliance_with_challenger_atop used in Model 2 </td>\n",
       "   </tr>\n",
       "    <tr>\n",
       "        <td> Foreign Policy Similarity </td>\n",
       "        <td> foreign_policy_similarity </td>\n",
       "        <td> Yes </td>\n",
       "        <td> </td>\n",
       "   </tr>\n",
       "    <tr>\n",
       "        <td> Power ratio </td>\n",
       "        <td> power_ratio </td>\n",
       "        <td> Yes </td>\n",
       "        <td> power_ratio_allies used in Model 4 </td>\n",
       "   </tr>\n",
       "     <tr>\n",
       "        <td> Challenger polity </td>\n",
       "        <td> challenger_polity </td>\n",
       "        <td> Yes </td>\n",
       "        <td>  </td>\n",
       "   </tr>\n",
       "     <tr>\n",
       "        <td> Target polity </td>\n",
       "        <td> target_polity </td>\n",
       "        <td> Yes </td>\n",
       "        <td>  </td>\n",
       "   </tr>\n",
       "    <tr>\n",
       "        <td> Challenger Polity * Target polity </td>\n",
       "        <td> polity_interaction </td>\n",
       "        <td> Yes </td>\n",
       "        <td>  </td>\n",
       "   </tr>\n",
       "    <tr>\n",
       "        <td> Time </td>\n",
       "        <td> time_conflict </td>\n",
       "        <td> Yes </td>\n",
       "        <td>  </td>\n",
       "   </tr>\n",
       "    <tr>\n",
       "        <td> Time (Squared) </td>\n",
       "        <td> time_conflict2 </td>\n",
       "        <td> Yes </td>\n",
       "        <td>  </td>\n",
       "   </tr>\n",
       "     <tr>\n",
       "        <td> Time (Cubed) </td>\n",
       "        <td> time_conflict3 </td>\n",
       "        <td> Yes </td>\n",
       "        <td>  </td>\n",
       "   </tr>\n",
       "</table>"
      ],
      "text/plain": [
       "<IPython.core.display.HTML object>"
      ]
     },
     "execution_count": 4,
     "metadata": {},
     "output_type": "execute_result"
    }
   ],
   "source": [
    "#The table below gives an overview of the variables in the Data. \n",
    "d = {'a': 2, 'b': 3}\n",
    "\n",
    "# content of the template that can be externalised\n",
    "template_content = \"\"\"\n",
    "<table>\n",
    "   <tr>\n",
    "        <th> Variable Name in Article </th>\n",
    "        <th> Variable Name in Data Set </th>\n",
    "        <th> Ready to Use </th>\n",
    "        <th> Notes </th>\n",
    "   </tr>\n",
    "   <tr>\n",
    "        <td> Defense Pact with Nuclear Power </td>\n",
    "        <td> defense_pact_nuclear_cow </td>\n",
    "        <td> Yes </td>\n",
    "        <td> defense pact nuclear atop is used in Model 2 </td>\n",
    "   </tr>\n",
    "   <tr>\n",
    "        <td> Nuclear Deployment </td>\n",
    "        <td> nuclear_deployment </td>\n",
    "        <td> Yes </td>\n",
    "        <td>  </td>\n",
    "   </tr>\n",
    "   <tr>\n",
    "        <td> Defense pact with nuclear power*nuclear deployment </td>\n",
    "        <td> defense_pact_deployment </td>\n",
    "        <td> Yes </td>\n",
    "        <td>  </td>\n",
    "   </tr>\n",
    "   <tr>\n",
    "        <td> Defense pact with nonnuclear power </td>\n",
    "        <td> defense_pact_nuclear_cow </td>\n",
    "        <td> Yes </td>\n",
    "        <td> defense pact nuclear atop is used in Model 2</td>\n",
    "   </tr>\n",
    "    <tr>\n",
    "        <td> U.S Troops </td>\n",
    "        <td> us_troops </td>\n",
    "        <td> Yes </td>\n",
    "        <td>  </td>\n",
    "   </tr>\n",
    "     <tr>\n",
    "        <td> Nuclear challenger </td>\n",
    "        <td> challenger_nuclear_weapons </td>\n",
    "        <td> Yes </td>\n",
    "        <td>  </td>\n",
    "   </tr>\n",
    "    <tr>\n",
    "        <td> Nuclear target </td>\n",
    "        <td> target_nuclear_weapons </td>\n",
    "        <td> Yes </td>\n",
    "        <td>  </td>\n",
    "   </tr>\n",
    "    <tr>\n",
    "        <td> Contiguity </td>\n",
    "        <td> contiguity </td>\n",
    "        <td> Yes </td>\n",
    "        <td>  </td>\n",
    "   </tr>\n",
    "    <tr>\n",
    "        <td> Alliance with challenger </td>\n",
    "        <td> alliance_with_challenger_cow </td>\n",
    "        <td> Yes </td>\n",
    "        <td> alliance_with_challenger_atop used in Model 2 </td>\n",
    "   </tr>\n",
    "    <tr>\n",
    "        <td> Foreign Policy Similarity </td>\n",
    "        <td> foreign_policy_similarity </td>\n",
    "        <td> Yes </td>\n",
    "        <td> </td>\n",
    "   </tr>\n",
    "    <tr>\n",
    "        <td> Power ratio </td>\n",
    "        <td> power_ratio </td>\n",
    "        <td> Yes </td>\n",
    "        <td> power_ratio_allies used in Model 4 </td>\n",
    "   </tr>\n",
    "     <tr>\n",
    "        <td> Challenger polity </td>\n",
    "        <td> challenger_polity </td>\n",
    "        <td> Yes </td>\n",
    "        <td>  </td>\n",
    "   </tr>\n",
    "     <tr>\n",
    "        <td> Target polity </td>\n",
    "        <td> target_polity </td>\n",
    "        <td> Yes </td>\n",
    "        <td>  </td>\n",
    "   </tr>\n",
    "    <tr>\n",
    "        <td> Challenger Polity * Target polity </td>\n",
    "        <td> polity_interaction </td>\n",
    "        <td> Yes </td>\n",
    "        <td>  </td>\n",
    "   </tr>\n",
    "    <tr>\n",
    "        <td> Time </td>\n",
    "        <td> time_conflict </td>\n",
    "        <td> Yes </td>\n",
    "        <td>  </td>\n",
    "   </tr>\n",
    "    <tr>\n",
    "        <td> Time (Squared) </td>\n",
    "        <td> time_conflict2 </td>\n",
    "        <td> Yes </td>\n",
    "        <td>  </td>\n",
    "   </tr>\n",
    "     <tr>\n",
    "        <td> Time (Cubed) </td>\n",
    "        <td> time_conflict3 </td>\n",
    "        <td> Yes </td>\n",
    "        <td>  </td>\n",
    "   </tr>\n",
    "</table>\"\"\"\n",
    "\n",
    "template = Template(template_content)\n",
    "\n",
    "# template rendering embedded in the HTML representation\n",
    "HTML(template.render(data=d))"
   ]
  },
  {
   "cell_type": "markdown",
   "id": "89de0137",
   "metadata": {},
   "source": [
    "### Overview of the Dependent Variable"
   ]
  },
  {
   "cell_type": "markdown",
   "id": "b25a0493",
   "metadata": {},
   "source": [
    "For information about the dependent variable, the Correlates of War (COW) Militarized Interstate Dispute (MID) datatset is used, which includes information about historical disputes between countries, such as threats to use force, alerts, military mobilizations, seizures, border clashes, and attacks. The authors are interested in the connections between extended deterrance and violent conflict; as a result, only those cases are included that have resulted in fatalities. However, many dyads such as Burkina Faso-Guyana, because of their economic and military conditions, do not have a realistic opportunity to fight, the sample only use s dyads that contain at least one major power or countries located within 400 miles of o ne another, in order to avoid artificially inflating the sample size."
   ]
  },
  {
   "cell_type": "markdown",
   "id": "9ff2f015",
   "metadata": {},
   "source": [
    "### Summarizing and Cleaning Data"
   ]
  },
  {
   "cell_type": "code",
   "execution_count": 5,
   "id": "a1930d77",
   "metadata": {},
   "outputs": [
    {
     "data": {
      "text/plain": [
       "count    1.055924e+06\n",
       "mean     3.068403e-04\n",
       "std      1.751418e-02\n",
       "min      0.000000e+00\n",
       "25%      0.000000e+00\n",
       "50%      0.000000e+00\n",
       "75%      0.000000e+00\n",
       "max      1.000000e+00\n",
       "Name: military_conflict, dtype: float64"
      ]
     },
     "execution_count": 5,
     "metadata": {},
     "output_type": "execute_result"
    }
   ],
   "source": [
    "rep_data['military_conflict'].describe()"
   ]
  },
  {
   "cell_type": "code",
   "execution_count": 6,
   "id": "3570a13b",
   "metadata": {},
   "outputs": [
    {
     "name": "stdout",
     "output_type": "stream",
     "text": [
      "(1056066, 49)\n",
      "(719295, 49)\n"
     ]
    },
    {
     "data": {
      "text/plain": [
       "count    719295.000000\n",
       "mean          0.000349\n",
       "std           0.018677\n",
       "min           0.000000\n",
       "25%           0.000000\n",
       "50%           0.000000\n",
       "75%           0.000000\n",
       "max           1.000000\n",
       "Name: military_conflict, dtype: float64"
      ]
     },
     "execution_count": 6,
     "metadata": {},
     "output_type": "execute_result"
    }
   ],
   "source": [
    "\n",
    "rep_data[\"military_conflict\"].unique()\n",
    "print(rep_data.shape)\n",
    "rep_data =  rep_data.dropna() #dropping observations without value\n",
    "print(rep_data.shape)\n",
    "rep_data['military_conflict'] = rep_data['military_conflict'].astype(int)\n",
    "rep_data[\"military_conflict\"].unique()\n",
    "rep_data['military_conflict'].describe()\n"
   ]
  },
  {
   "cell_type": "code",
   "execution_count": 7,
   "id": "c4d5b9f6",
   "metadata": {},
   "outputs": [
    {
     "data": {
      "text/html": [
       "<div>\n",
       "<style scoped>\n",
       "    .dataframe tbody tr th:only-of-type {\n",
       "        vertical-align: middle;\n",
       "    }\n",
       "\n",
       "    .dataframe tbody tr th {\n",
       "        vertical-align: top;\n",
       "    }\n",
       "\n",
       "    .dataframe thead th {\n",
       "        text-align: right;\n",
       "    }\n",
       "</style>\n",
       "<table border=\"1\" class=\"dataframe\">\n",
       "  <thead>\n",
       "    <tr style=\"text-align: right;\">\n",
       "      <th></th>\n",
       "      <th>state_a</th>\n",
       "      <th>state_b</th>\n",
       "      <th>year</th>\n",
       "      <th>military_conflict</th>\n",
       "      <th>defense_pact_nuclear_cow</th>\n",
       "      <th>defense_pact_nuclear_atop</th>\n",
       "      <th>nuclear_deployment</th>\n",
       "      <th>defense_pact_nonnuclear_cow</th>\n",
       "      <th>defense_pact_nonnuclear_atop</th>\n",
       "      <th>us_troops</th>\n",
       "      <th>...</th>\n",
       "      <th>shared_rival_nuclear</th>\n",
       "      <th>time_deploy</th>\n",
       "      <th>time_deploy2</th>\n",
       "      <th>time_deploy3</th>\n",
       "      <th>trade</th>\n",
       "      <th>defense_pact_nuclear_uncommon</th>\n",
       "      <th>military_conflict_force</th>\n",
       "      <th>time_force</th>\n",
       "      <th>time_force2</th>\n",
       "      <th>time_force3</th>\n",
       "    </tr>\n",
       "  </thead>\n",
       "  <tbody>\n",
       "    <tr>\n",
       "      <th>112</th>\n",
       "      <td>2</td>\n",
       "      <td>40</td>\n",
       "      <td>1983</td>\n",
       "      <td>1</td>\n",
       "      <td>0</td>\n",
       "      <td>0</td>\n",
       "      <td>0</td>\n",
       "      <td>0</td>\n",
       "      <td>0</td>\n",
       "      <td>0.000</td>\n",
       "      <td>...</td>\n",
       "      <td>1</td>\n",
       "      <td>20</td>\n",
       "      <td>400</td>\n",
       "      <td>8000.0</td>\n",
       "      <td>0.000000</td>\n",
       "      <td>0</td>\n",
       "      <td>1.0</td>\n",
       "      <td>6</td>\n",
       "      <td>36.0</td>\n",
       "      <td>216.0</td>\n",
       "    </tr>\n",
       "    <tr>\n",
       "      <th>1989</th>\n",
       "      <td>2</td>\n",
       "      <td>265</td>\n",
       "      <td>1985</td>\n",
       "      <td>1</td>\n",
       "      <td>1</td>\n",
       "      <td>1</td>\n",
       "      <td>1</td>\n",
       "      <td>1</td>\n",
       "      <td>1</td>\n",
       "      <td>0.000</td>\n",
       "      <td>...</td>\n",
       "      <td>0</td>\n",
       "      <td>0</td>\n",
       "      <td>0</td>\n",
       "      <td>0.0</td>\n",
       "      <td>102.300003</td>\n",
       "      <td>0</td>\n",
       "      <td>0.0</td>\n",
       "      <td>26</td>\n",
       "      <td>676.0</td>\n",
       "      <td>17576.0</td>\n",
       "    </tr>\n",
       "    <tr>\n",
       "      <th>2146</th>\n",
       "      <td>2</td>\n",
       "      <td>315</td>\n",
       "      <td>1953</td>\n",
       "      <td>1</td>\n",
       "      <td>1</td>\n",
       "      <td>1</td>\n",
       "      <td>0</td>\n",
       "      <td>1</td>\n",
       "      <td>1</td>\n",
       "      <td>0.000</td>\n",
       "      <td>...</td>\n",
       "      <td>0</td>\n",
       "      <td>3</td>\n",
       "      <td>9</td>\n",
       "      <td>27.0</td>\n",
       "      <td>2.000000</td>\n",
       "      <td>0</td>\n",
       "      <td>1.0</td>\n",
       "      <td>3</td>\n",
       "      <td>9.0</td>\n",
       "      <td>27.0</td>\n",
       "    </tr>\n",
       "    <tr>\n",
       "      <th>2654</th>\n",
       "      <td>2</td>\n",
       "      <td>365</td>\n",
       "      <td>1964</td>\n",
       "      <td>1</td>\n",
       "      <td>0</td>\n",
       "      <td>1</td>\n",
       "      <td>0</td>\n",
       "      <td>1</td>\n",
       "      <td>1</td>\n",
       "      <td>0.000</td>\n",
       "      <td>...</td>\n",
       "      <td>1</td>\n",
       "      <td>14</td>\n",
       "      <td>196</td>\n",
       "      <td>2744.0</td>\n",
       "      <td>23.000000</td>\n",
       "      <td>0</td>\n",
       "      <td>1.0</td>\n",
       "      <td>1</td>\n",
       "      <td>1.0</td>\n",
       "      <td>1.0</td>\n",
       "    </tr>\n",
       "    <tr>\n",
       "      <th>2655</th>\n",
       "      <td>2</td>\n",
       "      <td>365</td>\n",
       "      <td>1965</td>\n",
       "      <td>1</td>\n",
       "      <td>0</td>\n",
       "      <td>1</td>\n",
       "      <td>0</td>\n",
       "      <td>1</td>\n",
       "      <td>1</td>\n",
       "      <td>0.000</td>\n",
       "      <td>...</td>\n",
       "      <td>1</td>\n",
       "      <td>15</td>\n",
       "      <td>225</td>\n",
       "      <td>3375.0</td>\n",
       "      <td>46.000000</td>\n",
       "      <td>0</td>\n",
       "      <td>1.0</td>\n",
       "      <td>0</td>\n",
       "      <td>0.0</td>\n",
       "      <td>0.0</td>\n",
       "    </tr>\n",
       "    <tr>\n",
       "      <th>...</th>\n",
       "      <td>...</td>\n",
       "      <td>...</td>\n",
       "      <td>...</td>\n",
       "      <td>...</td>\n",
       "      <td>...</td>\n",
       "      <td>...</td>\n",
       "      <td>...</td>\n",
       "      <td>...</td>\n",
       "      <td>...</td>\n",
       "      <td>...</td>\n",
       "      <td>...</td>\n",
       "      <td>...</td>\n",
       "      <td>...</td>\n",
       "      <td>...</td>\n",
       "      <td>...</td>\n",
       "      <td>...</td>\n",
       "      <td>...</td>\n",
       "      <td>...</td>\n",
       "      <td>...</td>\n",
       "      <td>...</td>\n",
       "      <td>...</td>\n",
       "    </tr>\n",
       "    <tr>\n",
       "      <th>981413</th>\n",
       "      <td>816</td>\n",
       "      <td>710</td>\n",
       "      <td>1987</td>\n",
       "      <td>1</td>\n",
       "      <td>0</td>\n",
       "      <td>0</td>\n",
       "      <td>0</td>\n",
       "      <td>1</td>\n",
       "      <td>1</td>\n",
       "      <td>0.022</td>\n",
       "      <td>...</td>\n",
       "      <td>1</td>\n",
       "      <td>33</td>\n",
       "      <td>1089</td>\n",
       "      <td>35937.0</td>\n",
       "      <td>0.000000</td>\n",
       "      <td>0</td>\n",
       "      <td>1.0</td>\n",
       "      <td>2</td>\n",
       "      <td>4.0</td>\n",
       "      <td>8.0</td>\n",
       "    </tr>\n",
       "    <tr>\n",
       "      <th>982034</th>\n",
       "      <td>816</td>\n",
       "      <td>800</td>\n",
       "      <td>1995</td>\n",
       "      <td>1</td>\n",
       "      <td>0</td>\n",
       "      <td>0</td>\n",
       "      <td>0</td>\n",
       "      <td>0</td>\n",
       "      <td>0</td>\n",
       "      <td>0.099</td>\n",
       "      <td>...</td>\n",
       "      <td>1</td>\n",
       "      <td>41</td>\n",
       "      <td>1681</td>\n",
       "      <td>68921.0</td>\n",
       "      <td>515.018005</td>\n",
       "      <td>0</td>\n",
       "      <td>1.0</td>\n",
       "      <td>5</td>\n",
       "      <td>25.0</td>\n",
       "      <td>125.0</td>\n",
       "    </tr>\n",
       "    <tr>\n",
       "      <th>1009053</th>\n",
       "      <td>850</td>\n",
       "      <td>210</td>\n",
       "      <td>1953</td>\n",
       "      <td>1</td>\n",
       "      <td>1</td>\n",
       "      <td>1</td>\n",
       "      <td>0</td>\n",
       "      <td>1</td>\n",
       "      <td>1</td>\n",
       "      <td>0.083</td>\n",
       "      <td>...</td>\n",
       "      <td>1</td>\n",
       "      <td>3</td>\n",
       "      <td>9</td>\n",
       "      <td>27.0</td>\n",
       "      <td>90.000000</td>\n",
       "      <td>1</td>\n",
       "      <td>1.0</td>\n",
       "      <td>1</td>\n",
       "      <td>1.0</td>\n",
       "      <td>1.0</td>\n",
       "    </tr>\n",
       "    <tr>\n",
       "      <th>1009060</th>\n",
       "      <td>850</td>\n",
       "      <td>210</td>\n",
       "      <td>1960</td>\n",
       "      <td>1</td>\n",
       "      <td>1</td>\n",
       "      <td>1</td>\n",
       "      <td>1</td>\n",
       "      <td>1</td>\n",
       "      <td>1</td>\n",
       "      <td>0.777</td>\n",
       "      <td>...</td>\n",
       "      <td>1</td>\n",
       "      <td>10</td>\n",
       "      <td>100</td>\n",
       "      <td>1000.0</td>\n",
       "      <td>29.000000</td>\n",
       "      <td>1</td>\n",
       "      <td>1.0</td>\n",
       "      <td>2</td>\n",
       "      <td>4.0</td>\n",
       "      <td>8.0</td>\n",
       "    </tr>\n",
       "    <tr>\n",
       "      <th>1014158</th>\n",
       "      <td>850</td>\n",
       "      <td>820</td>\n",
       "      <td>1963</td>\n",
       "      <td>1</td>\n",
       "      <td>1</td>\n",
       "      <td>1</td>\n",
       "      <td>1</td>\n",
       "      <td>0</td>\n",
       "      <td>0</td>\n",
       "      <td>0.012</td>\n",
       "      <td>...</td>\n",
       "      <td>1</td>\n",
       "      <td>6</td>\n",
       "      <td>36</td>\n",
       "      <td>216.0</td>\n",
       "      <td>1.000000</td>\n",
       "      <td>1</td>\n",
       "      <td>1.0</td>\n",
       "      <td>6</td>\n",
       "      <td>36.0</td>\n",
       "      <td>216.0</td>\n",
       "    </tr>\n",
       "  </tbody>\n",
       "</table>\n",
       "<p>251 rows × 49 columns</p>\n",
       "</div>"
      ],
      "text/plain": [
       "         state_a  state_b  year  military_conflict  defense_pact_nuclear_cow  \\\n",
       "112            2       40  1983                  1                         0   \n",
       "1989           2      265  1985                  1                         1   \n",
       "2146           2      315  1953                  1                         1   \n",
       "2654           2      365  1964                  1                         0   \n",
       "2655           2      365  1965                  1                         0   \n",
       "...          ...      ...   ...                ...                       ...   \n",
       "981413       816      710  1987                  1                         0   \n",
       "982034       816      800  1995                  1                         0   \n",
       "1009053      850      210  1953                  1                         1   \n",
       "1009060      850      210  1960                  1                         1   \n",
       "1014158      850      820  1963                  1                         1   \n",
       "\n",
       "         defense_pact_nuclear_atop  nuclear_deployment  \\\n",
       "112                              0                   0   \n",
       "1989                             1                   1   \n",
       "2146                             1                   0   \n",
       "2654                             1                   0   \n",
       "2655                             1                   0   \n",
       "...                            ...                 ...   \n",
       "981413                           0                   0   \n",
       "982034                           0                   0   \n",
       "1009053                          1                   0   \n",
       "1009060                          1                   1   \n",
       "1014158                          1                   1   \n",
       "\n",
       "         defense_pact_nonnuclear_cow  defense_pact_nonnuclear_atop  us_troops  \\\n",
       "112                                0                             0      0.000   \n",
       "1989                               1                             1      0.000   \n",
       "2146                               1                             1      0.000   \n",
       "2654                               1                             1      0.000   \n",
       "2655                               1                             1      0.000   \n",
       "...                              ...                           ...        ...   \n",
       "981413                             1                             1      0.022   \n",
       "982034                             0                             0      0.099   \n",
       "1009053                            1                             1      0.083   \n",
       "1009060                            1                             1      0.777   \n",
       "1014158                            0                             0      0.012   \n",
       "\n",
       "         ...  shared_rival_nuclear  time_deploy  time_deploy2  time_deploy3  \\\n",
       "112      ...                     1           20           400        8000.0   \n",
       "1989     ...                     0            0             0           0.0   \n",
       "2146     ...                     0            3             9          27.0   \n",
       "2654     ...                     1           14           196        2744.0   \n",
       "2655     ...                     1           15           225        3375.0   \n",
       "...      ...                   ...          ...           ...           ...   \n",
       "981413   ...                     1           33          1089       35937.0   \n",
       "982034   ...                     1           41          1681       68921.0   \n",
       "1009053  ...                     1            3             9          27.0   \n",
       "1009060  ...                     1           10           100        1000.0   \n",
       "1014158  ...                     1            6            36         216.0   \n",
       "\n",
       "              trade  defense_pact_nuclear_uncommon  military_conflict_force  \\\n",
       "112        0.000000                              0                      1.0   \n",
       "1989     102.300003                              0                      0.0   \n",
       "2146       2.000000                              0                      1.0   \n",
       "2654      23.000000                              0                      1.0   \n",
       "2655      46.000000                              0                      1.0   \n",
       "...             ...                            ...                      ...   \n",
       "981413     0.000000                              0                      1.0   \n",
       "982034   515.018005                              0                      1.0   \n",
       "1009053   90.000000                              1                      1.0   \n",
       "1009060   29.000000                              1                      1.0   \n",
       "1014158    1.000000                              1                      1.0   \n",
       "\n",
       "         time_force  time_force2  time_force3  \n",
       "112               6         36.0        216.0  \n",
       "1989             26        676.0      17576.0  \n",
       "2146              3          9.0         27.0  \n",
       "2654              1          1.0          1.0  \n",
       "2655              0          0.0          0.0  \n",
       "...             ...          ...          ...  \n",
       "981413            2          4.0          8.0  \n",
       "982034            5         25.0        125.0  \n",
       "1009053           1          1.0          1.0  \n",
       "1009060           2          4.0          8.0  \n",
       "1014158           6         36.0        216.0  \n",
       "\n",
       "[251 rows x 49 columns]"
      ]
     },
     "execution_count": 7,
     "metadata": {},
     "output_type": "execute_result"
    }
   ],
   "source": [
    "rep_data['military_conflict'].dtypes\n",
    "rep_data[rep_data[\"military_conflict\"]== 1]\n"
   ]
  },
  {
   "cell_type": "markdown",
   "id": "e0faa9e6",
   "metadata": {},
   "source": [
    "### Visualizing Dependent Variable"
   ]
  },
  {
   "cell_type": "code",
   "execution_count": 8,
   "id": "3aab4f55",
   "metadata": {},
   "outputs": [
    {
     "data": {
      "text/plain": [
       "Text(0.5, 0, 'Military Conflict')"
      ]
     },
     "execution_count": 8,
     "metadata": {},
     "output_type": "execute_result"
    },
    {
     "data": {
      "image/png": "[encoded data removed]",
      "text/plain": [
       "<Figure size 432x288 with 1 Axes>"
      ]
     },
     "metadata": {
      "needs_background": "light"
     },
     "output_type": "display_data"
    }
   ],
   "source": [
    "plt.hist(rep_data['military_conflict'])\n",
    "plt.ylabel('Frequency')\n",
    "plt.xlabel('Military Conflict')"
   ]
  },
  {
   "cell_type": "markdown",
   "id": "d4896fde",
   "metadata": {},
   "source": [
    "I wanted to see the distribution of military conflict over the years. Since the data was very big, I took a sample and used a scatterplot. I am trying to assess the best way of visualizing binary variables. "
   ]
  },
  {
   "cell_type": "code",
   "execution_count": 9,
   "id": "901bb9c0",
   "metadata": {},
   "outputs": [
    {
     "data": {
      "text/plain": [
       "<matplotlib.collections.PathCollection at 0x13fd91fa0>"
      ]
     },
     "execution_count": 9,
     "metadata": {},
     "output_type": "execute_result"
    },
    {
     "data": {
      "image/png": "[encoded data removed]",
      "text/plain": [
       "<Figure size 432x288 with 1 Axes>"
      ]
     },
     "metadata": {
      "needs_background": "light"
     },
     "output_type": "display_data"
    }
   ],
   "source": [
    "sample_rep_data = rep_data.groupby('year').apply(lambda x: x.sample(frac=0.01))\n",
    "sample_rep_data['military_conflict']\n",
    "plt.scatter(sample_rep_data['year'], sample_rep_data['military_conflict'])"
   ]
  },
  {
   "cell_type": "markdown",
   "id": "eb963166",
   "metadata": {},
   "source": [
    "### Overview of the Independent Variables"
   ]
  },
  {
   "cell_type": "markdown",
   "id": "82b4ddd8",
   "metadata": {},
   "source": [
    "The key explanatory variables used in the articles are Defence Pact Alliance (defence_pact_nuclear_cow) and Nuclear Deployment (nuclear_deployment).\n",
    "\n",
    "#### Defense Pact Alliance\n",
    "\n",
    "The first independent variable of interest, defense pact alliance, is measured using two sources. First, the study consults the COW formal alliance dataset which is coded 1 if a potential target of a dispute has a public defense pact with a nuclear-armed state and 0 if not. 44 percent of the observations in the sample are coded as having nuclear protection. In order to ensure robustness of results, Alliance Treaty\n",
    "Obligations and Provisions (ATOP) dataset, is also used. The ATOP and COW datasets are largely similar, save for some differences."
   ]
  },
  {
   "cell_type": "code",
   "execution_count": 10,
   "id": "1143f93c",
   "metadata": {},
   "outputs": [
    {
     "data": {
      "text/plain": [
       "count    719295.000000\n",
       "mean          0.381479\n",
       "std           0.485750\n",
       "min           0.000000\n",
       "25%           0.000000\n",
       "50%           0.000000\n",
       "75%           1.000000\n",
       "max           1.000000\n",
       "Name: defense_pact_nuclear_cow, dtype: float64"
      ]
     },
     "execution_count": 10,
     "metadata": {},
     "output_type": "execute_result"
    }
   ],
   "source": [
    "rep_data['defense_pact_nuclear_cow'].describe()\n"
   ]
  },
  {
   "cell_type": "code",
   "execution_count": 11,
   "id": "87691634",
   "metadata": {},
   "outputs": [
    {
     "data": {
      "text/plain": [
       "dtype('int8')"
      ]
     },
     "execution_count": 11,
     "metadata": {},
     "output_type": "execute_result"
    }
   ],
   "source": [
    "rep_data['defense_pact_nuclear_cow'].dtype"
   ]
  },
  {
   "cell_type": "code",
   "execution_count": 12,
   "id": "ad1825ba",
   "metadata": {},
   "outputs": [
    {
     "data": {
      "text/plain": [
       "array([0, 1], dtype=int8)"
      ]
     },
     "execution_count": 12,
     "metadata": {},
     "output_type": "execute_result"
    }
   ],
   "source": [
    "rep_data['defense_pact_nuclear_cow'].unique() #no NAN values\n"
   ]
  },
  {
   "cell_type": "code",
   "execution_count": 13,
   "id": "11772aa3",
   "metadata": {},
   "outputs": [
    {
     "name": "stdout",
     "output_type": "stream",
     "text": [
      "(719295, 49)\n"
     ]
    }
   ],
   "source": [
    "print(rep_data.shape)"
   ]
  },
  {
   "cell_type": "code",
   "execution_count": 14,
   "id": "627f945b",
   "metadata": {},
   "outputs": [
    {
     "data": {
      "text/plain": [
       "Text(0.5, 0, 'Defense Pact with Nuclear Power')"
      ]
     },
     "execution_count": 14,
     "metadata": {},
     "output_type": "execute_result"
    },
    {
     "data": {
      "image/png": "[encoded data removed]",
      "text/plain": [
       "<Figure size 432x288 with 1 Axes>"
      ]
     },
     "metadata": {
      "needs_background": "light"
     },
     "output_type": "display_data"
    }
   ],
   "source": [
    "plt.hist(rep_data['defense_pact_nuclear_cow'])\n",
    "plt.ylabel('Frequency')\n",
    "plt.xlabel('Defense Pact with Nuclear Power')"
   ]
  },
  {
   "cell_type": "code",
   "execution_count": 15,
   "id": "70d79641",
   "metadata": {},
   "outputs": [
    {
     "data": {
      "text/plain": [
       "count    719295.000000\n",
       "mean          0.443053\n",
       "std           0.496747\n",
       "min           0.000000\n",
       "25%           0.000000\n",
       "50%           0.000000\n",
       "75%           1.000000\n",
       "max           1.000000\n",
       "Name: defense_pact_nuclear_atop, dtype: float64"
      ]
     },
     "execution_count": 15,
     "metadata": {},
     "output_type": "execute_result"
    }
   ],
   "source": [
    "rep_data['defense_pact_nuclear_atop'].describe()"
   ]
  },
  {
   "cell_type": "code",
   "execution_count": 16,
   "id": "5229f280",
   "metadata": {},
   "outputs": [
    {
     "data": {
      "text/plain": [
       "array([0, 1], dtype=int8)"
      ]
     },
     "execution_count": 16,
     "metadata": {},
     "output_type": "execute_result"
    }
   ],
   "source": [
    "rep_data['defense_pact_nuclear_atop'].unique() #no NaN values"
   ]
  },
  {
   "cell_type": "code",
   "execution_count": 17,
   "id": "94e2a09e",
   "metadata": {},
   "outputs": [
    {
     "data": {
      "text/plain": [
       "dtype('int8')"
      ]
     },
     "execution_count": 17,
     "metadata": {},
     "output_type": "execute_result"
    }
   ],
   "source": [
    "rep_data['defense_pact_nuclear_atop'].dtype"
   ]
  },
  {
   "cell_type": "code",
   "execution_count": 18,
   "id": "f7471415",
   "metadata": {},
   "outputs": [
    {
     "data": {
      "text/plain": [
       "Text(0.5, 0, 'Defense Pact with Nuclear Power_Atop')"
      ]
     },
     "execution_count": 18,
     "metadata": {},
     "output_type": "execute_result"
    },
    {
     "data": {
      "image/png": "[encoded data removed]",
      "text/plain": [
       "<Figure size 432x288 with 1 Axes>"
      ]
     },
     "metadata": {
      "needs_background": "light"
     },
     "output_type": "display_data"
    }
   ],
   "source": [
    "plt.hist(rep_data['defense_pact_nuclear_atop'])\n",
    "plt.ylabel('Frequency')\n",
    "plt.xlabel('Defense Pact with Nuclear Power_Atop')"
   ]
  },
  {
   "cell_type": "markdown",
   "id": "b277d1e4",
   "metadata": {},
   "source": [
    "#### Nuclear Deployment\n",
    "To measure the second independent variable of interest, nuclear deployment, the authors constructed a new dataset of extraterritorial nuclear deployments based on government documents and historical literature due to classfied information on foreign nuclear deployments. The variable is coded 1 if a state had foreign- deployed nuclear weapons on its territory in a given year and 0 if it did not. These deployments occur in about 13 percent of the dyad-year observations in the sample. Three possible types of foreign nuclear deployments are excluded: accidental nuclear deployment of weapons by the Soviet Union in Ukraine, Belarus, and Kazakhtan in the 1990s, three cases in which the US deployed nuclear weapons without their fissile cores, rendering weapons non-nuclear, deployment of nuclear weapons on Japanese Islands of Chichi Jima , Iwo Jime, and Okinawa, as they were under US control during the period of deployment."
   ]
  },
  {
   "cell_type": "code",
   "execution_count": 19,
   "id": "63776199",
   "metadata": {},
   "outputs": [
    {
     "data": {
      "text/plain": [
       "count    719295.000000\n",
       "mean          0.086519\n",
       "std           0.281130\n",
       "min           0.000000\n",
       "25%           0.000000\n",
       "50%           0.000000\n",
       "75%           0.000000\n",
       "max           1.000000\n",
       "Name: nuclear_deployment, dtype: float64"
      ]
     },
     "execution_count": 19,
     "metadata": {},
     "output_type": "execute_result"
    }
   ],
   "source": [
    "rep_data['nuclear_deployment'].describe()"
   ]
  },
  {
   "cell_type": "code",
   "execution_count": 20,
   "id": "bd7e932f",
   "metadata": {},
   "outputs": [
    {
     "data": {
      "text/plain": [
       "array([0, 1], dtype=int8)"
      ]
     },
     "execution_count": 20,
     "metadata": {},
     "output_type": "execute_result"
    }
   ],
   "source": [
    "rep_data['nuclear_deployment'].unique() #no NaN values"
   ]
  },
  {
   "cell_type": "code",
   "execution_count": 21,
   "id": "10c3eeac",
   "metadata": {},
   "outputs": [
    {
     "data": {
      "text/plain": [
       "dtype('int8')"
      ]
     },
     "execution_count": 21,
     "metadata": {},
     "output_type": "execute_result"
    }
   ],
   "source": [
    "rep_data['nuclear_deployment'].dtype"
   ]
  },
  {
   "cell_type": "code",
   "execution_count": 22,
   "id": "d98ddfce",
   "metadata": {},
   "outputs": [
    {
     "data": {
      "text/plain": [
       "Text(0.5, 0, 'Nuclear Deployment')"
      ]
     },
     "execution_count": 22,
     "metadata": {},
     "output_type": "execute_result"
    },
    {
     "data": {
      "image/png": "[encoded data removed]",
      "text/plain": [
       "<Figure size 432x288 with 1 Axes>"
      ]
     },
     "metadata": {
      "needs_background": "light"
     },
     "output_type": "display_data"
    }
   ],
   "source": [
    "plt.hist(rep_data['nuclear_deployment'])\n",
    "plt.ylabel('Frequency')\n",
    "plt.xlabel('Nuclear Deployment')"
   ]
  },
  {
   "cell_type": "markdown",
   "id": "075b4469",
   "metadata": {},
   "source": [
    "\n",
    "The authors’ measurement of the outcome and explanatory variables appear robust, given the fact that the first independent variable of interest, defense pact allaince is measured using dataset from two sources. Similarly, as the explanation of second independent variable shows, the authors are very careful about selecting those nuclear weapon deployments that are meaningful to their analysis, in other words, those that signal efforts towards nuclear deterrance. The measurement of the outcome variable is also robust, given that it allows us to distingish between initiators and targers: each dyad-year represents one opportunity. In other words, a dispute initiated by Japan against North Korea is distinct from that initiated by North Korea against Japan. What I found odd was the authors excluding some dyads such as Burkina-Faso and Guyana because they do not ”have a realistic opportuntity to fight” (925). The authors co uld have been more clear about what they mean by ”realistic opportunity.” It is not clear whether the opportunities are dictated by economic condition, past relationships, history of conflict, or other factors."
   ]
  },
  {
   "cell_type": "markdown",
   "id": "3112711a",
   "metadata": {},
   "source": [
    "#### Statistical Techniques\n",
    "The article uses probit regression to estimate the effect of defense pact alliances and nuclear deployment on military conflict. Probit regression is used because our outcome variable is dichotomous, that is it takes the value of 0 or 1. The article does not use any regression equations. When the outcome variable is dichotomous, it is not that easy to interpret the effect of explana tory variables just by looking at the beta or the coefficients. We will detail the summary of findings below.\n",
    "\n",
    "*Hypothesis 1*: Having a public defence pact with a nuclear state reduces the likel ihood of being targeted in a militarized interstate dispute. This hypothesis indicates that the parameter on defence pact alliance will be significant and negative.\n",
    "\n",
    "*Hypothesis 2*: Hosting another state’s nuclear weapons on one’s territory reduces the likelihood of be- ing targeted in a militarized interstate dispute. This hypothesis indicates that the parameter on nuclear deployment will be significant an d negative."
   ]
  },
  {
   "cell_type": "markdown",
   "id": "e5c813a5",
   "metadata": {},
   "source": [
    "### Summary of original findings\n",
    "\n",
    "The article presents the findings that I set out to produce through a table and a graph. Table 1 shows four probit regression models. Model 1 is a baseline model with COW version of defense pact with nuclear armed countries, with all the control variables. Model 2 uses the ATOP version of defense pact with nuclear armed countries. Model 3 uses the interaction between defense pact alliance and nuclear deployment to test the possibility that whether stationing nuclear weapons on the territory of an ally is only effective in the presence of a defense alliance or whether it is equally effective in the absence of such a commitment. Model 4 includes the effect of conventional capabilities of nuclear armed states plays any role in detertting militarized disputes.\n",
    "\n",
    "To summarize the findings of the four models briefly, the effect of defense pact alliance with a nuclear armed state on the possibility of being targeted in a militarized dispute is signficiant. The presence of a defense alliance with a nuclear armed states decreases the probability of a country being engaged in a militarized dispute. The effect of nuclear deployments on militarized conflict is statistically insignificant across all four models. Moreover, the marginal effect of nuclear deployments, the change in predicted probability of conflict that results from the changing the deployment variable from 0 to 1 is also statistically insignificant regardless of nuclear alliances being present or absent (Figure 3). Moreover, the control variables, Defense Pact with Nonnuclear Power and US. Troops are also insignificant, conveying that conventional signals of alliance commitments are less effective than having alliance with nuclear armed states. Despite controlling for conventional deterrence strategies, defense pact with nuclear power remains significant and negative. This implies that defense alliance with nuclear power is important is determining the probability of a country facing militarized dispute."
   ]
  },
  {
   "cell_type": "markdown",
   "id": "a448304f",
   "metadata": {},
   "source": [
    "### Summary of my findings"
   ]
  },
  {
   "cell_type": "code",
   "execution_count": 23,
   "id": "6bb3f567",
   "metadata": {},
   "outputs": [],
   "source": [
    "import statsmodels.api as sm"
   ]
  },
  {
   "cell_type": "code",
   "execution_count": 24,
   "id": "e8efea48",
   "metadata": {},
   "outputs": [
    {
     "name": "stdout",
     "output_type": "stream",
     "text": [
      "Optimization terminated successfully.\n",
      "         Current function value: 0.017215\n",
      "         Iterations 11\n"
     ]
    }
   ],
   "source": [
    "# logit_mod = sm.Logit(rep_data['military_conflict'], red_data[])military_conflict defense_pact_nuclear_cow nuclear_deployment defense_pact_nonnuclear_cow\n",
    "rep_data = rep_data[rep_data[\"politically_relevant\"]== 1]\n",
    "rep_data.head(5)\n",
    "\n",
    "###Model 1\n",
    "endog1 = rep_data['military_conflict']\n",
    "exog1 = rep_data[['defense_pact_nuclear_cow', 'nuclear_deployment', 'defense_pact_nonnuclear_cow', \"us_troops\", 'challenger_nuclear_weapons', 'target_nuclear_weapons', 'contiguity', 'alliance_with_challenger_cow', 'foreign_policy_similarity', 'power_ratio', 'challenger_polity', 'target_polity', 'polity_interaction', 'time_conflict', 'time_conflict2', 'time_conflict3']]\n",
    "logit_mod1 = sm.Logit(endog1, exog1)\n",
    "logit_result1 = logit_mod1.fit(cov_type = 'cluster', cov_kwds={'groups': rep_data['dyad_id']}, use_t=True) \n"
   ]
  },
  {
   "cell_type": "code",
   "execution_count": 25,
   "id": "5fd42516",
   "metadata": {},
   "outputs": [
    {
     "name": "stdout",
     "output_type": "stream",
     "text": [
      "                           Logit Regression Results                           \n",
      "==============================================================================\n",
      "Dep. Variable:      military_conflict   No. Observations:                85150\n",
      "Model:                          Logit   Df Residuals:                    85134\n",
      "Method:                           MLE   Df Model:                           15\n",
      "Date:                Thu, 24 Jun 2021   Pseudo R-squ.:                  0.1046\n",
      "Time:                        10:15:32   Log-Likelihood:                -1465.8\n",
      "converged:                       True   LL-Null:                       -1637.1\n",
      "Covariance Type:              cluster   LLR p-value:                 7.735e-64\n",
      "================================================================================================\n",
      "                                   coef    std err          t      P>|t|      [0.025      0.975]\n",
      "------------------------------------------------------------------------------------------------\n",
      "defense_pact_nuclear_cow        -1.1111      0.302     -3.685      0.000      -1.702      -0.520\n",
      "nuclear_deployment               0.0205      0.554      0.037      0.970      -1.066       1.107\n",
      "defense_pact_nonnuclear_cow     -0.9050      0.305     -2.966      0.003      -1.503      -0.307\n",
      "us_troops                       -0.0158      0.019     -0.820      0.413      -0.054       0.022\n",
      "challenger_nuclear_weapons      -0.6229      0.377     -1.653      0.098      -1.362       0.116\n",
      "target_nuclear_weapons          -1.4338      0.394     -3.641      0.000      -2.206      -0.662\n",
      "contiguity                       1.0913      0.181      6.031      0.000       0.737       1.446\n",
      "alliance_with_challenger_cow    -0.6258      0.209     -2.992      0.003      -1.036      -0.216\n",
      "foreign_policy_similarity       -1.7829      0.133    -13.454      0.000      -2.043      -1.523\n",
      "power_ratio                     -1.7154      0.360     -4.768      0.000      -2.421      -1.010\n",
      "challenger_polity               -0.1036      0.020     -5.208      0.000      -0.143      -0.065\n",
      "target_polity                   -0.0578      0.022     -2.656      0.008      -0.100      -0.015\n",
      "polity_interaction               0.0037      0.002      2.171      0.030       0.000       0.007\n",
      "time_conflict                   -0.4600      0.041    -11.232      0.000      -0.540      -0.380\n",
      "time_conflict2                   0.0206      0.003      7.320      0.000       0.015       0.026\n",
      "time_conflict3                  -0.0003   4.99e-05     -5.321      0.000      -0.000      -0.000\n",
      "================================================================================================\n",
      "\n",
      "Possibly complete quasi-separation: A fraction 0.10 of observations can be\n",
      "perfectly predicted. This might indicate that there is complete\n",
      "quasi-separation. In this case some parameters will not be identified.\n"
     ]
    }
   ],
   "source": [
    "Model_1 = logit_result1.summary()\n",
    "print(Model_1)"
   ]
  },
  {
   "cell_type": "markdown",
   "id": "c6399331",
   "metadata": {},
   "source": [
    "\n"
   ]
  },
  {
   "cell_type": "code",
   "execution_count": 26,
   "id": "a0c4e43c",
   "metadata": {},
   "outputs": [
    {
     "name": "stdout",
     "output_type": "stream",
     "text": [
      "Optimization terminated successfully.\n",
      "         Current function value: 0.017322\n",
      "         Iterations 11\n"
     ]
    }
   ],
   "source": [
    "### Model 2\n",
    "\n",
    "\n",
    "endog2 = rep_data['military_conflict']\n",
    "exog2 = rep_data[[\"defense_pact_nuclear_atop\", \"nuclear_deployment\", 'defense_pact_nonnuclear_atop', 'us_troops', 'challenger_nuclear_weapons', \"target_nuclear_weapons\", 'contiguity', 'alliance_with_challenger_atop',  'foreign_policy_similarity', 'power_ratio', 'challenger_polity', 'target_polity', 'polity_interaction',  'time_conflict', 'time_conflict2', 'time_conflict3']] \n",
    "logit_mod2 = sm.Logit(endog2, exog2)\n",
    "logit_result2 = logit_mod2.fit(cov_type = 'cluster', cov_kwds={'groups': rep_data['dyad_id']}, use_t=True) \n"
   ]
  },
  {
   "cell_type": "code",
   "execution_count": 27,
   "id": "3f8713f6",
   "metadata": {},
   "outputs": [
    {
     "name": "stdout",
     "output_type": "stream",
     "text": [
      "                           Logit Regression Results                           \n",
      "==============================================================================\n",
      "Dep. Variable:      military_conflict   No. Observations:                85150\n",
      "Model:                          Logit   Df Residuals:                    85134\n",
      "Method:                           MLE   Df Model:                           15\n",
      "Date:                Thu, 24 Jun 2021   Pseudo R-squ.:                 0.09903\n",
      "Time:                        10:15:33   Log-Likelihood:                -1475.0\n",
      "converged:                       True   LL-Null:                       -1637.1\n",
      "Covariance Type:              cluster   LLR p-value:                 5.005e-60\n",
      "=================================================================================================\n",
      "                                    coef    std err          t      P>|t|      [0.025      0.975]\n",
      "-------------------------------------------------------------------------------------------------\n",
      "defense_pact_nuclear_atop        -0.7956      0.281     -2.832      0.005      -1.346      -0.245\n",
      "nuclear_deployment               -0.0075      0.539     -0.014      0.989      -1.065       1.050\n",
      "defense_pact_nonnuclear_atop     -0.8760      0.322     -2.718      0.007      -1.508      -0.244\n",
      "us_troops                        -0.0188      0.020     -0.959      0.338      -0.057       0.020\n",
      "challenger_nuclear_weapons       -0.5723      0.376     -1.521      0.128      -1.310       0.165\n",
      "target_nuclear_weapons           -1.3631      0.415     -3.283      0.001      -2.177      -0.549\n",
      "contiguity                        1.1535      0.192      6.016      0.000       0.778       1.529\n",
      "alliance_with_challenger_atop    -0.6999      0.226     -3.097      0.002      -1.143      -0.257\n",
      "foreign_policy_similarity        -1.7488      0.134    -13.048      0.000      -2.012      -1.486\n",
      "power_ratio                      -1.6988      0.365     -4.657      0.000      -2.414      -0.984\n",
      "challenger_polity                -0.1040      0.019     -5.350      0.000      -0.142      -0.066\n",
      "target_polity                    -0.0614      0.023     -2.616      0.009      -0.107      -0.015\n",
      "polity_interaction                0.0038      0.002      2.247      0.025       0.000       0.007\n",
      "time_conflict                    -0.4655      0.041    -11.384      0.000      -0.546      -0.385\n",
      "time_conflict2                    0.0205      0.003      7.384      0.000       0.015       0.026\n",
      "time_conflict3                   -0.0003   4.92e-05     -5.323      0.000      -0.000      -0.000\n",
      "=================================================================================================\n"
     ]
    }
   ],
   "source": [
    "Model_2 = logit_result2.summary()\n",
    "print(Model_2)"
   ]
  },
  {
   "cell_type": "code",
   "execution_count": 28,
   "id": "5941f5a7",
   "metadata": {},
   "outputs": [
    {
     "name": "stdout",
     "output_type": "stream",
     "text": [
      "Optimization terminated successfully.\n",
      "         Current function value: 0.017095\n",
      "         Iterations 11\n"
     ]
    }
   ],
   "source": [
    "### Model 3\n",
    "\n",
    "endog3 = rep_data['military_conflict']\n",
    "exog3 = rep_data[['defense_pact_nuclear_cow', 'nuclear_deployment', 'defense_pact_deployment', 'defense_pact_nonnuclear_cow', 'us_troops', 'challenger_nuclear_weapons', 'target_nuclear_weapons', 'contiguity', 'alliance_with_challenger_cow', 'foreign_policy_similarity', 'power_ratio', 'challenger_polity', 'target_polity', 'polity_interaction', 'time_conflict', 'time_conflict2', 'time_conflict3']]\n",
    " \n",
    "logit_mod3 = sm.Logit(endog3, exog3)\n",
    "logit_result3 = logit_mod3.fit(cov_type = 'cluster', cov_kwds={'groups': rep_data['dyad_id']}, use_t=True)"
   ]
  },
  {
   "cell_type": "code",
   "execution_count": 29,
   "id": "de55286a",
   "metadata": {},
   "outputs": [
    {
     "name": "stdout",
     "output_type": "stream",
     "text": [
      "                           Logit Regression Results                           \n",
      "==============================================================================\n",
      "Dep. Variable:      military_conflict   No. Observations:                85150\n",
      "Model:                          Logit   Df Residuals:                    85133\n",
      "Method:                           MLE   Df Model:                           16\n",
      "Date:                Thu, 24 Jun 2021   Pseudo R-squ.:                  0.1108\n",
      "Time:                        10:15:33   Log-Likelihood:                -1455.6\n",
      "converged:                       True   LL-Null:                       -1637.1\n",
      "Covariance Type:              cluster   LLR p-value:                 2.099e-67\n",
      "================================================================================================\n",
      "                                   coef    std err          t      P>|t|      [0.025      0.975]\n",
      "------------------------------------------------------------------------------------------------\n",
      "defense_pact_nuclear_cow        -1.3490      0.311     -4.337      0.000      -1.959      -0.739\n",
      "nuclear_deployment              -2.4153      1.147     -2.106      0.035      -4.664      -0.166\n",
      "defense_pact_deployment          3.5085      1.228      2.858      0.004       1.102       5.915\n",
      "defense_pact_nonnuclear_cow     -0.9440      0.312     -3.025      0.003      -1.556      -0.332\n",
      "us_troops                       -0.0175      0.017     -1.051      0.293      -0.050       0.015\n",
      "challenger_nuclear_weapons      -0.6725      0.381     -1.767      0.077      -1.419       0.074\n",
      "target_nuclear_weapons          -1.4233      0.385     -3.697      0.000      -2.178      -0.668\n",
      "contiguity                       1.1245      0.179      6.283      0.000       0.774       1.475\n",
      "alliance_with_challenger_cow    -0.5904      0.210     -2.817      0.005      -1.001      -0.179\n",
      "foreign_policy_similarity       -1.8518      0.133    -13.920      0.000      -2.113      -1.591\n",
      "power_ratio                     -1.6542      0.362     -4.564      0.000      -2.365      -0.944\n",
      "challenger_polity               -0.1022      0.020     -5.211      0.000      -0.141      -0.064\n",
      "target_polity                   -0.0589      0.022     -2.727      0.006      -0.101      -0.017\n",
      "polity_interaction               0.0036      0.002      2.165      0.030       0.000       0.007\n",
      "time_conflict                   -0.4497      0.041    -11.030      0.000      -0.530      -0.370\n",
      "time_conflict2                   0.0199      0.003      7.133      0.000       0.014       0.025\n",
      "time_conflict3                  -0.0003   4.92e-05     -5.172      0.000      -0.000      -0.000\n",
      "================================================================================================\n",
      "\n",
      "Possibly complete quasi-separation: A fraction 0.11 of observations can be\n",
      "perfectly predicted. This might indicate that there is complete\n",
      "quasi-separation. In this case some parameters will not be identified.\n"
     ]
    }
   ],
   "source": [
    "Model_3 = logit_result3.summary()\n",
    "print(Model_3)"
   ]
  },
  {
   "cell_type": "code",
   "execution_count": 30,
   "id": "cc7db373",
   "metadata": {},
   "outputs": [
    {
     "name": "stdout",
     "output_type": "stream",
     "text": [
      "Optimization terminated successfully.\n",
      "         Current function value: 0.016949\n",
      "         Iterations 11\n"
     ]
    }
   ],
   "source": [
    "endog4 = rep_data['military_conflict']\n",
    "exog4 = rep_data[['defense_pact_nuclear_cow', 'nuclear_deployment', 'defense_pact_nonnuclear_cow', 'us_troops', 'challenger_nuclear_weapons', 'target_nuclear_weapons', 'contiguity', 'alliance_with_challenger_cow', 'foreign_policy_similarity', 'power_ratio_allies', 'challenger_polity', 'target_polity', 'polity_interaction', 'time_conflict', 'time_conflict2', 'time_conflict3']]\n",
    "\n",
    "logit_mod4 = sm.Logit(endog4, exog4)\n",
    "logit_result4 = logit_mod4.fit(cov_type = 'cluster', cov_kwds={'groups': rep_data['dyad_id']}, use_t=True)"
   ]
  },
  {
   "cell_type": "code",
   "execution_count": 31,
   "id": "2d6e2bcd",
   "metadata": {},
   "outputs": [
    {
     "name": "stdout",
     "output_type": "stream",
     "text": [
      "                           Logit Regression Results                           \n",
      "==============================================================================\n",
      "Dep. Variable:      military_conflict   No. Observations:                85150\n",
      "Model:                          Logit   Df Residuals:                    85134\n",
      "Method:                           MLE   Df Model:                           15\n",
      "Date:                Thu, 24 Jun 2021   Pseudo R-squ.:                  0.1184\n",
      "Time:                        10:15:34   Log-Likelihood:                -1443.2\n",
      "converged:                       True   LL-Null:                       -1637.1\n",
      "Covariance Type:              cluster   LLR p-value:                 2.660e-73\n",
      "================================================================================================\n",
      "                                   coef    std err          t      P>|t|      [0.025      0.975]\n",
      "------------------------------------------------------------------------------------------------\n",
      "defense_pact_nuclear_cow        -1.4002      0.294     -4.758      0.000      -1.977      -0.823\n",
      "nuclear_deployment               0.1377      0.550      0.250      0.802      -0.941       1.217\n",
      "defense_pact_nonnuclear_cow     -1.2694      0.287     -4.424      0.000      -1.832      -0.707\n",
      "us_troops                       -0.0121      0.018     -0.684      0.494      -0.047       0.023\n",
      "challenger_nuclear_weapons      -0.7201      0.335     -2.151      0.032      -1.376      -0.064\n",
      "target_nuclear_weapons          -1.0340      0.378     -2.735      0.006      -1.775      -0.293\n",
      "contiguity                       1.1283      0.184      6.129      0.000       0.767       1.489\n",
      "alliance_with_challenger_cow    -0.6173      0.211     -2.927      0.003      -1.031      -0.204\n",
      "foreign_policy_similarity       -1.7528      0.141    -12.473      0.000      -2.028      -1.477\n",
      "power_ratio_allies              -1.9703      0.328     -6.015      0.000      -2.613      -1.328\n",
      "challenger_polity               -0.0866      0.019     -4.565      0.000      -0.124      -0.049\n",
      "target_polity                   -0.0436      0.021     -2.042      0.041      -0.085      -0.002\n",
      "polity_interaction               0.0024      0.002      1.514      0.130      -0.001       0.006\n",
      "time_conflict                   -0.4338      0.043    -10.054      0.000      -0.518      -0.349\n",
      "time_conflict2                   0.0194      0.003      6.759      0.000       0.014       0.025\n",
      "time_conflict3                  -0.0003   5.01e-05     -5.008      0.000      -0.000      -0.000\n",
      "================================================================================================\n"
     ]
    }
   ],
   "source": [
    "Model_4 = logit_result4.summary()\n",
    "print(Model_4)"
   ]
  },
  {
   "cell_type": "markdown",
   "id": "1083e921",
   "metadata": {},
   "source": [
    "### Summary of my findings\n",
    "\n",
    "The findings from my analysis are largely similar to those of the authors. The effect of defense pact alliance with a nuclear armed state is significant and negative. Defense alliance with a nuclear armed state decreases the probability of a country being engaged in a militarized dispute. The effect of nuclear deployments on militarized conflict is statistically insignificant in Models 1, 2, and 4 but significant and negative in Model 3. \n",
    "\n",
    "The presence of the control variable, Presence of US Troops, is insignificant across all four models conveying that conventional signals of alliance commitments are less effective than having an alliance with nuclear armed states. The defense pact with nonnuclear power remains significant across all four models unlike what the authors found. This shows that defense pact with nonnuclear power is also significant in decreasing the possibility of military conflict. \n",
    "\n",
    "Overall, the findings show that nuclear diplomacy is much more helpful in curbing militarized dispute than nuclear deployment. "
   ]
  },
  {
   "cell_type": "markdown",
   "id": "b0769066",
   "metadata": {},
   "source": []
  },
  {
   "cell_type": "code",
   "execution_count": null,
   "id": "4917df63",
   "metadata": {},
   "outputs": [],
   "source": []
  },
  {
   "cell_type": "code",
   "execution_count": null,
   "id": "9332a29e",
   "metadata": {},
   "outputs": [],
   "source": []
  },
  {
   "cell_type": "code",
   "execution_count": null,
   "id": "12b94222",
   "metadata": {},
   "outputs": [],
   "source": []
  },
  {
   "cell_type": "code",
   "execution_count": null,
   "id": "36585b53",
   "metadata": {},
   "outputs": [],
   "source": []
  },
  {
   "cell_type": "code",
   "execution_count": null,
   "id": "d42b604f",
   "metadata": {},
   "outputs": [],
   "source": []
  }
 ],
 "metadata": {
  "kernelspec": {
   "display_name": "Python 3",
   "language": "python",
   "name": "python3"
  },
  "language_info": {
   "codemirror_mode": {
    "name": "ipython",
    "version": 3
   },
   "file_extension": ".py",
   "mimetype": "text/x-python",
   "name": "python",
   "nbconvert_exporter": "python",
   "pygments_lexer": "ipython3",
   "version": "3.9.5"
  }
 },
 "nbformat": 4,
 "nbformat_minor": 5
}
